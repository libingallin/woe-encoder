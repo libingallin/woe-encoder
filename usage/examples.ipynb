{
 "cells": [
  {
   "cell_type": "code",
   "execution_count": 1,
   "metadata": {
    "ExecuteTime": {
     "end_time": "2020-06-28T09:05:05.878724Z",
     "start_time": "2020-06-28T09:05:05.018076Z"
    }
   },
   "outputs": [],
   "source": [
    "import os\n",
    "import sys\n",
    "\n",
    "import matplotlib.pyplot as plt\n",
    "import numpy as np\n",
    "import pandas as pd\n",
    "\n",
    "%matplotlib inline"
   ]
  },
  {
   "cell_type": "code",
   "execution_count": 2,
   "metadata": {
    "ExecuteTime": {
     "end_time": "2020-06-28T09:05:05.901051Z",
     "start_time": "2020-06-28T09:05:05.889820Z"
    }
   },
   "outputs": [],
   "source": [
    "sys.path.append('/Users/libing/codes/woe-encoder/')"
   ]
  },
  {
   "cell_type": "code",
   "execution_count": 4,
   "metadata": {
    "ExecuteTime": {
     "end_time": "2020-06-28T09:05:06.434609Z",
     "start_time": "2020-06-28T09:05:06.425760Z"
    },
    "scrolled": false
   },
   "outputs": [
    {
     "name": "stdout",
     "output_type": "stream",
     "text": [
      "Pandas version: 1.0.4\n",
      "NumPy version: 1.18.5\n"
     ]
    }
   ],
   "source": [
    "print(\"Pandas version:\", pd.__version__)\n",
    "print(\"NumPy version:\", np.__version__)"
   ]
  },
  {
   "cell_type": "markdown",
   "metadata": {},
   "source": [
    "# 1. 加载数据"
   ]
  },
  {
   "cell_type": "code",
   "execution_count": 5,
   "metadata": {
    "ExecuteTime": {
     "end_time": "2020-06-28T09:07:17.673752Z",
     "start_time": "2020-06-28T09:07:17.649557Z"
    }
   },
   "outputs": [],
   "source": [
    "from sklearn.datasets import load_boston\n",
    "\n",
    "bunch = load_boston()\n",
    "data = pd.DataFrame(bunch.data, columns=bunch.feature_names)\n",
    "y = bunch.target > 22.5\n",
    "data['y'] = y\n",
    "\n",
    "category_feature = 'RAD'\n",
    "continous_feature = 'CRIM'"
   ]
  },
  {
   "cell_type": "markdown",
   "metadata": {},
   "source": [
    "> 测试数据集来源于 [sklearn-contrib](https://github.com/scikit-learn-contrib/category_encoders/blob/master/category_encoders/woe.py)。"
   ]
  },
  {
   "cell_type": "code",
   "execution_count": 6,
   "metadata": {
    "ExecuteTime": {
     "end_time": "2020-06-28T09:07:22.957350Z",
     "start_time": "2020-06-28T09:07:22.912540Z"
    }
   },
   "outputs": [
    {
     "data": {
      "text/html": [
       "<div>\n",
       "<style scoped>\n",
       "    .dataframe tbody tr th:only-of-type {\n",
       "        vertical-align: middle;\n",
       "    }\n",
       "\n",
       "    .dataframe tbody tr th {\n",
       "        vertical-align: top;\n",
       "    }\n",
       "\n",
       "    .dataframe thead th {\n",
       "        text-align: right;\n",
       "    }\n",
       "</style>\n",
       "<table border=\"1\" class=\"dataframe\">\n",
       "  <thead>\n",
       "    <tr style=\"text-align: right;\">\n",
       "      <th></th>\n",
       "      <th>CRIM</th>\n",
       "      <th>ZN</th>\n",
       "      <th>INDUS</th>\n",
       "      <th>CHAS</th>\n",
       "      <th>NOX</th>\n",
       "      <th>RM</th>\n",
       "      <th>AGE</th>\n",
       "      <th>DIS</th>\n",
       "      <th>RAD</th>\n",
       "      <th>TAX</th>\n",
       "      <th>PTRATIO</th>\n",
       "      <th>B</th>\n",
       "      <th>LSTAT</th>\n",
       "      <th>y</th>\n",
       "    </tr>\n",
       "  </thead>\n",
       "  <tbody>\n",
       "    <tr>\n",
       "      <th>0</th>\n",
       "      <td>0.00632</td>\n",
       "      <td>18.0</td>\n",
       "      <td>2.31</td>\n",
       "      <td>0.0</td>\n",
       "      <td>0.538</td>\n",
       "      <td>6.575</td>\n",
       "      <td>65.2</td>\n",
       "      <td>4.0900</td>\n",
       "      <td>1.0</td>\n",
       "      <td>296.0</td>\n",
       "      <td>15.3</td>\n",
       "      <td>396.90</td>\n",
       "      <td>4.98</td>\n",
       "      <td>True</td>\n",
       "    </tr>\n",
       "    <tr>\n",
       "      <th>1</th>\n",
       "      <td>0.02731</td>\n",
       "      <td>0.0</td>\n",
       "      <td>7.07</td>\n",
       "      <td>0.0</td>\n",
       "      <td>0.469</td>\n",
       "      <td>6.421</td>\n",
       "      <td>78.9</td>\n",
       "      <td>4.9671</td>\n",
       "      <td>2.0</td>\n",
       "      <td>242.0</td>\n",
       "      <td>17.8</td>\n",
       "      <td>396.90</td>\n",
       "      <td>9.14</td>\n",
       "      <td>False</td>\n",
       "    </tr>\n",
       "    <tr>\n",
       "      <th>2</th>\n",
       "      <td>0.02729</td>\n",
       "      <td>0.0</td>\n",
       "      <td>7.07</td>\n",
       "      <td>0.0</td>\n",
       "      <td>0.469</td>\n",
       "      <td>7.185</td>\n",
       "      <td>61.1</td>\n",
       "      <td>4.9671</td>\n",
       "      <td>2.0</td>\n",
       "      <td>242.0</td>\n",
       "      <td>17.8</td>\n",
       "      <td>392.83</td>\n",
       "      <td>4.03</td>\n",
       "      <td>True</td>\n",
       "    </tr>\n",
       "    <tr>\n",
       "      <th>3</th>\n",
       "      <td>0.03237</td>\n",
       "      <td>0.0</td>\n",
       "      <td>2.18</td>\n",
       "      <td>0.0</td>\n",
       "      <td>0.458</td>\n",
       "      <td>6.998</td>\n",
       "      <td>45.8</td>\n",
       "      <td>6.0622</td>\n",
       "      <td>3.0</td>\n",
       "      <td>222.0</td>\n",
       "      <td>18.7</td>\n",
       "      <td>394.63</td>\n",
       "      <td>2.94</td>\n",
       "      <td>True</td>\n",
       "    </tr>\n",
       "    <tr>\n",
       "      <th>4</th>\n",
       "      <td>0.06905</td>\n",
       "      <td>0.0</td>\n",
       "      <td>2.18</td>\n",
       "      <td>0.0</td>\n",
       "      <td>0.458</td>\n",
       "      <td>7.147</td>\n",
       "      <td>54.2</td>\n",
       "      <td>6.0622</td>\n",
       "      <td>3.0</td>\n",
       "      <td>222.0</td>\n",
       "      <td>18.7</td>\n",
       "      <td>396.90</td>\n",
       "      <td>5.33</td>\n",
       "      <td>True</td>\n",
       "    </tr>\n",
       "  </tbody>\n",
       "</table>\n",
       "</div>"
      ],
      "text/plain": [
       "      CRIM    ZN  INDUS  CHAS    NOX     RM   AGE     DIS  RAD    TAX  \\\n",
       "0  0.00632  18.0   2.31   0.0  0.538  6.575  65.2  4.0900  1.0  296.0   \n",
       "1  0.02731   0.0   7.07   0.0  0.469  6.421  78.9  4.9671  2.0  242.0   \n",
       "2  0.02729   0.0   7.07   0.0  0.469  7.185  61.1  4.9671  2.0  242.0   \n",
       "3  0.03237   0.0   2.18   0.0  0.458  6.998  45.8  6.0622  3.0  222.0   \n",
       "4  0.06905   0.0   2.18   0.0  0.458  7.147  54.2  6.0622  3.0  222.0   \n",
       "\n",
       "   PTRATIO       B  LSTAT      y  \n",
       "0     15.3  396.90   4.98   True  \n",
       "1     17.8  396.90   9.14  False  \n",
       "2     17.8  392.83   4.03   True  \n",
       "3     18.7  394.63   2.94   True  \n",
       "4     18.7  396.90   5.33   True  "
      ]
     },
     "execution_count": 6,
     "metadata": {},
     "output_type": "execute_result"
    }
   ],
   "source": [
    "data.head()"
   ]
  },
  {
   "cell_type": "code",
   "execution_count": 7,
   "metadata": {
    "ExecuteTime": {
     "end_time": "2020-06-28T09:07:42.106204Z",
     "start_time": "2020-06-28T09:07:42.093102Z"
    }
   },
   "outputs": [
    {
     "data": {
      "text/plain": [
       "(506, 14)"
      ]
     },
     "execution_count": 7,
     "metadata": {},
     "output_type": "execute_result"
    }
   ],
   "source": [
    "data.shape"
   ]
  },
  {
   "cell_type": "markdown",
   "metadata": {},
   "source": [
    "# 2. `CategoryWOEEncoder`"
   ]
  },
  {
   "cell_type": "code",
   "execution_count": 8,
   "metadata": {
    "ExecuteTime": {
     "end_time": "2020-06-28T09:08:42.841346Z",
     "start_time": "2020-06-28T09:08:42.833041Z"
    }
   },
   "outputs": [],
   "source": [
    "from woe_encoder import CategoryWOEEncoder  # My\n",
    "from category_encoders import WOEEncoder    # sklearn contrib"
   ]
  },
  {
   "cell_type": "markdown",
   "metadata": {},
   "source": [
    "## 2.1 `CategoryWOEEncoder` V.S. sklearn-contrib `category_encoders.WOEEncoder`"
   ]
  },
  {
   "cell_type": "markdown",
   "metadata": {},
   "source": [
    "[sklearn-contrib](https://github.com/scikit-learn-contrib/category_encoders/blob/master/category_encoders/woe.py) 只实现了离散型特征的 WOE 转换，且没有任何可设置条件。它将所有离散型值当作一个 bin，没有 bin 的合并操作，没有任何 attributes，只有结果。"
   ]
  },
  {
   "cell_type": "code",
   "execution_count": 9,
   "metadata": {
    "ExecuteTime": {
     "end_time": "2020-06-28T09:12:09.028710Z",
     "start_time": "2020-06-28T09:12:08.954427Z"
    }
   },
   "outputs": [
    {
     "data": {
      "text/plain": [
       "WOEEncoder(cols=['RAD'])"
      ]
     },
     "execution_count": 9,
     "metadata": {},
     "output_type": "execute_result"
    }
   ],
   "source": [
    "# sklearn-contrib WOE encoder\n",
    "sklearn_contrib_encoder = WOEEncoder(cols=[category_feature])\n",
    "sklearn_contrib_encoder.fit(data, y)  # y 不在 data 中"
   ]
  },
  {
   "cell_type": "code",
   "execution_count": 11,
   "metadata": {
    "ExecuteTime": {
     "end_time": "2020-06-28T09:14:31.703380Z",
     "start_time": "2020-06-28T09:14:31.687955Z"
    }
   },
   "outputs": [
    {
     "data": {
      "text/plain": [
       "0      0.166264\n",
       "1      0.658740\n",
       "2      0.658740\n",
       "3      0.967625\n",
       "4      0.967625\n",
       "         ...   \n",
       "501    0.166264\n",
       "502    0.166264\n",
       "503    0.166264\n",
       "504    0.166264\n",
       "505    0.166264\n",
       "Name: RAD, Length: 506, dtype: float64"
      ]
     },
     "execution_count": 11,
     "metadata": {},
     "output_type": "execute_result"
    }
   ],
   "source": [
    "data_sklearn = sklearn_contrib_encoder.transform(data)\n",
    "data_sklearn[category_feature]"
   ]
  },
  {
   "cell_type": "code",
   "execution_count": 25,
   "metadata": {
    "ExecuteTime": {
     "end_time": "2020-06-28T09:48:31.761915Z",
     "start_time": "2020-06-28T09:48:31.708603Z"
    },
    "scrolled": true
   },
   "outputs": [
    {
     "data": {
      "text/plain": [
       "0      0.166264\n",
       "1      0.658740\n",
       "2      0.658740\n",
       "3      0.967625\n",
       "4      0.967625\n",
       "         ...   \n",
       "501    0.166264\n",
       "502    0.166264\n",
       "503    0.166264\n",
       "504    0.166264\n",
       "505    0.166264\n",
       "Name: RAD_woe, Length: 506, dtype: float64"
      ]
     },
     "execution_count": 25,
     "metadata": {},
     "output_type": "execute_result"
    }
   ],
   "source": [
    "# my WOE encoder\n",
    "my_woe_encoder = CategoryWOEEncoder(\n",
    "    col_name=category_feature,  # 必须指定\n",
    "    target_col_name='y',        # 必须指定\n",
    "    max_bins=1000,\n",
    "    bin_pct_threshold=0.,\n",
    "    woe_method='chi2',\n",
    "    min_chi2_flag=False)\n",
    "data_my = my_woe_encoder.fit_transform(data)\n",
    "data_my[category_feature+'_woe']"
   ]
  },
  {
   "cell_type": "markdown",
   "metadata": {},
   "source": [
    "**<font color='blue'>相同的条件下，我们的结果和 sklearn-contrib 的结果一摸一样。但是我们有很多可定制化的功能，一起看看吧。</font>**"
   ]
  },
  {
   "cell_type": "code",
   "execution_count": 26,
   "metadata": {
    "ExecuteTime": {
     "end_time": "2020-06-28T09:48:43.647076Z",
     "start_time": "2020-06-28T09:48:43.619181Z"
    }
   },
   "outputs": [
    {
     "data": {
      "text/html": [
       "<div>\n",
       "<style scoped>\n",
       "    .dataframe tbody tr th:only-of-type {\n",
       "        vertical-align: middle;\n",
       "    }\n",
       "\n",
       "    .dataframe tbody tr th {\n",
       "        vertical-align: top;\n",
       "    }\n",
       "\n",
       "    .dataframe thead th {\n",
       "        text-align: right;\n",
       "    }\n",
       "</style>\n",
       "<table border=\"1\" class=\"dataframe\">\n",
       "  <thead>\n",
       "    <tr style=\"text-align: right;\">\n",
       "      <th></th>\n",
       "      <th>RAD</th>\n",
       "      <th>bin_num</th>\n",
       "      <th>bad_num</th>\n",
       "      <th>good_num</th>\n",
       "      <th>bad_rate</th>\n",
       "      <th>bin_pct</th>\n",
       "      <th>woe</th>\n",
       "      <th>iv</th>\n",
       "    </tr>\n",
       "  </thead>\n",
       "  <tbody>\n",
       "    <tr>\n",
       "      <th>0</th>\n",
       "      <td>[24.0]</td>\n",
       "      <td>132</td>\n",
       "      <td>18.0</td>\n",
       "      <td>114.0</td>\n",
       "      <td>0.136364</td>\n",
       "      <td>0.260870</td>\n",
       "      <td>-1.451908</td>\n",
       "      <td>0.432253</td>\n",
       "    </tr>\n",
       "    <tr>\n",
       "      <th>1</th>\n",
       "      <td>[6.0]</td>\n",
       "      <td>26</td>\n",
       "      <td>8.0</td>\n",
       "      <td>18.0</td>\n",
       "      <td>0.307692</td>\n",
       "      <td>0.051383</td>\n",
       "      <td>-0.398629</td>\n",
       "      <td>0.008901</td>\n",
       "    </tr>\n",
       "    <tr>\n",
       "      <th>2</th>\n",
       "      <td>[4.0]</td>\n",
       "      <td>110</td>\n",
       "      <td>41.0</td>\n",
       "      <td>69.0</td>\n",
       "      <td>0.372727</td>\n",
       "      <td>0.217391</td>\n",
       "      <td>-0.162240</td>\n",
       "      <td>0.005865</td>\n",
       "    </tr>\n",
       "    <tr>\n",
       "      <th>3</th>\n",
       "      <td>[1.0]</td>\n",
       "      <td>20</td>\n",
       "      <td>9.0</td>\n",
       "      <td>11.0</td>\n",
       "      <td>0.450000</td>\n",
       "      <td>0.039526</td>\n",
       "      <td>0.166264</td>\n",
       "      <td>0.001002</td>\n",
       "    </tr>\n",
       "    <tr>\n",
       "      <th>4</th>\n",
       "      <td>[5.0]</td>\n",
       "      <td>115</td>\n",
       "      <td>62.0</td>\n",
       "      <td>53.0</td>\n",
       "      <td>0.539130</td>\n",
       "      <td>0.227273</td>\n",
       "      <td>0.502736</td>\n",
       "      <td>0.059423</td>\n",
       "    </tr>\n",
       "    <tr>\n",
       "      <th>5</th>\n",
       "      <td>[2.0]</td>\n",
       "      <td>24</td>\n",
       "      <td>14.0</td>\n",
       "      <td>10.0</td>\n",
       "      <td>0.583333</td>\n",
       "      <td>0.047431</td>\n",
       "      <td>0.658740</td>\n",
       "      <td>0.021946</td>\n",
       "    </tr>\n",
       "    <tr>\n",
       "      <th>6</th>\n",
       "      <td>[3.0]</td>\n",
       "      <td>38</td>\n",
       "      <td>25.0</td>\n",
       "      <td>13.0</td>\n",
       "      <td>0.657895</td>\n",
       "      <td>0.075099</td>\n",
       "      <td>0.967625</td>\n",
       "      <td>0.073391</td>\n",
       "    </tr>\n",
       "    <tr>\n",
       "      <th>7</th>\n",
       "      <td>[7.0]</td>\n",
       "      <td>17</td>\n",
       "      <td>13.0</td>\n",
       "      <td>4.0</td>\n",
       "      <td>0.764706</td>\n",
       "      <td>0.033597</td>\n",
       "      <td>1.378205</td>\n",
       "      <td>0.067164</td>\n",
       "    </tr>\n",
       "    <tr>\n",
       "      <th>8</th>\n",
       "      <td>[8.0]</td>\n",
       "      <td>24</td>\n",
       "      <td>19.0</td>\n",
       "      <td>5.0</td>\n",
       "      <td>0.791667</td>\n",
       "      <td>0.047431</td>\n",
       "      <td>1.552558</td>\n",
       "      <td>0.115004</td>\n",
       "    </tr>\n",
       "  </tbody>\n",
       "</table>\n",
       "</div>"
      ],
      "text/plain": [
       "      RAD  bin_num  bad_num  good_num  bad_rate   bin_pct       woe        iv\n",
       "0  [24.0]      132     18.0     114.0  0.136364  0.260870 -1.451908  0.432253\n",
       "1   [6.0]       26      8.0      18.0  0.307692  0.051383 -0.398629  0.008901\n",
       "2   [4.0]      110     41.0      69.0  0.372727  0.217391 -0.162240  0.005865\n",
       "3   [1.0]       20      9.0      11.0  0.450000  0.039526  0.166264  0.001002\n",
       "4   [5.0]      115     62.0      53.0  0.539130  0.227273  0.502736  0.059423\n",
       "5   [2.0]       24     14.0      10.0  0.583333  0.047431  0.658740  0.021946\n",
       "6   [3.0]       38     25.0      13.0  0.657895  0.075099  0.967625  0.073391\n",
       "7   [7.0]       17     13.0       4.0  0.764706  0.033597  1.378205  0.067164\n",
       "8   [8.0]       24     19.0       5.0  0.791667  0.047431  1.552558  0.115004"
      ]
     },
     "execution_count": 26,
     "metadata": {},
     "output_type": "execute_result"
    }
   ],
   "source": [
    "my_woe_encoder.bin_result_"
   ]
  },
  {
   "cell_type": "markdown",
   "metadata": {},
   "source": [
    "## 2.2 `CategoryWOEEncoder` 介绍"
   ]
  },
  {
   "cell_type": "markdown",
   "metadata": {},
   "source": [
    "在 `CategoryWOEEncoder` 中实现的 WOE 转换方法有：\n",
    "\n",
    "- **基于卡方值的分箱方法**\n",
    "\n",
    "  - 按照卡方阈值停止（默认选项）\n",
    "  \n",
    "  - 按照最大箱数停止\n",
    " \n",
    "\n",
    "- **基于坏样本率差异最大化的分箱**\n",
    "\n",
    "  - 按照最大箱数停止\n",
    "\n",
    "\n",
    "<br>\n",
    "\n",
    "**不管使用哪种方法，你都需要指定这 2 个参数——`col_name` 和 `target_col_name`。**"
   ]
  },
  {
   "cell_type": "markdown",
   "metadata": {},
   "source": [
    "### 2.2.1 基于阈值的卡方分箱法（默认）"
   ]
  },
  {
   "cell_type": "markdown",
   "metadata": {},
   "source": [
    "<font color='crimson'>这是一个默认选项。</font>\n",
    "\n",
    "**参数**\n",
    "\n",
    "- `woe_method='chi2'`\n",
    "\n",
    "\n",
    "- `min_chi2_flag=True`"
   ]
  },
  {
   "cell_type": "code",
   "execution_count": 22,
   "metadata": {
    "ExecuteTime": {
     "end_time": "2020-06-28T09:47:10.002502Z",
     "start_time": "2020-06-28T09:47:09.922482Z"
    }
   },
   "outputs": [
    {
     "data": {
      "text/plain": [
       "CategoryWOEEncoder(col_name='RAD', target_col_name='y')"
      ]
     },
     "execution_count": 22,
     "metadata": {},
     "output_type": "execute_result"
    }
   ],
   "source": [
    "# 按照卡方阈值（默认 3.841）停止\n",
    "encoder = CategoryWOEEncoder(\n",
    "    col_name=category_feature,\n",
    "    target_col_name='y',\n",
    "    bin_pct_threshold=0.05,  # default, 每个 bin 的最少样本数\n",
    "    woe_method='chi2',       # default, 基于卡方的分箱\n",
    "    min_chi2_flag=True,      # default, 按照卡方阈值停止\n",
    "    confidence=3.841,        # default, 卡方阈值\n",
    ")\n",
    "encoder.fit(data)"
   ]
  },
  {
   "cell_type": "code",
   "execution_count": 18,
   "metadata": {
    "ExecuteTime": {
     "end_time": "2020-06-28T09:40:00.556905Z",
     "start_time": "2020-06-28T09:40:00.524697Z"
    }
   },
   "outputs": [
    {
     "data": {
      "text/html": [
       "<div>\n",
       "<style scoped>\n",
       "    .dataframe tbody tr th:only-of-type {\n",
       "        vertical-align: middle;\n",
       "    }\n",
       "\n",
       "    .dataframe tbody tr th {\n",
       "        vertical-align: top;\n",
       "    }\n",
       "\n",
       "    .dataframe thead th {\n",
       "        text-align: right;\n",
       "    }\n",
       "</style>\n",
       "<table border=\"1\" class=\"dataframe\">\n",
       "  <thead>\n",
       "    <tr style=\"text-align: right;\">\n",
       "      <th></th>\n",
       "      <th>CRIM</th>\n",
       "      <th>ZN</th>\n",
       "      <th>INDUS</th>\n",
       "      <th>CHAS</th>\n",
       "      <th>NOX</th>\n",
       "      <th>RM</th>\n",
       "      <th>AGE</th>\n",
       "      <th>DIS</th>\n",
       "      <th>RAD</th>\n",
       "      <th>TAX</th>\n",
       "      <th>PTRATIO</th>\n",
       "      <th>B</th>\n",
       "      <th>LSTAT</th>\n",
       "      <th>y</th>\n",
       "      <th>RAD_woe</th>\n",
       "    </tr>\n",
       "  </thead>\n",
       "  <tbody>\n",
       "    <tr>\n",
       "      <th>0</th>\n",
       "      <td>0.00632</td>\n",
       "      <td>18.0</td>\n",
       "      <td>2.31</td>\n",
       "      <td>0.0</td>\n",
       "      <td>0.538</td>\n",
       "      <td>6.575</td>\n",
       "      <td>65.2</td>\n",
       "      <td>4.0900</td>\n",
       "      <td>1.0</td>\n",
       "      <td>296.0</td>\n",
       "      <td>15.3</td>\n",
       "      <td>396.90</td>\n",
       "      <td>4.98</td>\n",
       "      <td>True</td>\n",
       "      <td>-0.168997</td>\n",
       "    </tr>\n",
       "    <tr>\n",
       "      <th>1</th>\n",
       "      <td>0.02731</td>\n",
       "      <td>0.0</td>\n",
       "      <td>7.07</td>\n",
       "      <td>0.0</td>\n",
       "      <td>0.469</td>\n",
       "      <td>6.421</td>\n",
       "      <td>78.9</td>\n",
       "      <td>4.9671</td>\n",
       "      <td>2.0</td>\n",
       "      <td>242.0</td>\n",
       "      <td>17.8</td>\n",
       "      <td>396.90</td>\n",
       "      <td>9.14</td>\n",
       "      <td>False</td>\n",
       "      <td>0.533508</td>\n",
       "    </tr>\n",
       "    <tr>\n",
       "      <th>2</th>\n",
       "      <td>0.02729</td>\n",
       "      <td>0.0</td>\n",
       "      <td>7.07</td>\n",
       "      <td>0.0</td>\n",
       "      <td>0.469</td>\n",
       "      <td>7.185</td>\n",
       "      <td>61.1</td>\n",
       "      <td>4.9671</td>\n",
       "      <td>2.0</td>\n",
       "      <td>242.0</td>\n",
       "      <td>17.8</td>\n",
       "      <td>392.83</td>\n",
       "      <td>4.03</td>\n",
       "      <td>True</td>\n",
       "      <td>0.533508</td>\n",
       "    </tr>\n",
       "    <tr>\n",
       "      <th>3</th>\n",
       "      <td>0.03237</td>\n",
       "      <td>0.0</td>\n",
       "      <td>2.18</td>\n",
       "      <td>0.0</td>\n",
       "      <td>0.458</td>\n",
       "      <td>6.998</td>\n",
       "      <td>45.8</td>\n",
       "      <td>6.0622</td>\n",
       "      <td>3.0</td>\n",
       "      <td>222.0</td>\n",
       "      <td>18.7</td>\n",
       "      <td>394.63</td>\n",
       "      <td>2.94</td>\n",
       "      <td>True</td>\n",
       "      <td>1.273534</td>\n",
       "    </tr>\n",
       "    <tr>\n",
       "      <th>4</th>\n",
       "      <td>0.06905</td>\n",
       "      <td>0.0</td>\n",
       "      <td>2.18</td>\n",
       "      <td>0.0</td>\n",
       "      <td>0.458</td>\n",
       "      <td>7.147</td>\n",
       "      <td>54.2</td>\n",
       "      <td>6.0622</td>\n",
       "      <td>3.0</td>\n",
       "      <td>222.0</td>\n",
       "      <td>18.7</td>\n",
       "      <td>396.90</td>\n",
       "      <td>5.33</td>\n",
       "      <td>True</td>\n",
       "      <td>1.273534</td>\n",
       "    </tr>\n",
       "  </tbody>\n",
       "</table>\n",
       "</div>"
      ],
      "text/plain": [
       "      CRIM    ZN  INDUS  CHAS    NOX     RM   AGE     DIS  RAD    TAX  \\\n",
       "0  0.00632  18.0   2.31   0.0  0.538  6.575  65.2  4.0900  1.0  296.0   \n",
       "1  0.02731   0.0   7.07   0.0  0.469  6.421  78.9  4.9671  2.0  242.0   \n",
       "2  0.02729   0.0   7.07   0.0  0.469  7.185  61.1  4.9671  2.0  242.0   \n",
       "3  0.03237   0.0   2.18   0.0  0.458  6.998  45.8  6.0622  3.0  222.0   \n",
       "4  0.06905   0.0   2.18   0.0  0.458  7.147  54.2  6.0622  3.0  222.0   \n",
       "\n",
       "   PTRATIO       B  LSTAT      y   RAD_woe  \n",
       "0     15.3  396.90   4.98   True -0.168997  \n",
       "1     17.8  396.90   9.14  False  0.533508  \n",
       "2     17.8  392.83   4.03   True  0.533508  \n",
       "3     18.7  394.63   2.94   True  1.273534  \n",
       "4     18.7  396.90   5.33   True  1.273534  "
      ]
     },
     "execution_count": 18,
     "metadata": {},
     "output_type": "execute_result"
    }
   ],
   "source": [
    "data_transformed = encoder.transform(data)\n",
    "data_transformed.head()"
   ]
  },
  {
   "cell_type": "code",
   "execution_count": 19,
   "metadata": {
    "ExecuteTime": {
     "end_time": "2020-06-28T09:41:53.402228Z",
     "start_time": "2020-06-28T09:41:53.380351Z"
    }
   },
   "outputs": [
    {
     "data": {
      "text/html": [
       "<div>\n",
       "<style scoped>\n",
       "    .dataframe tbody tr th:only-of-type {\n",
       "        vertical-align: middle;\n",
       "    }\n",
       "\n",
       "    .dataframe tbody tr th {\n",
       "        vertical-align: top;\n",
       "    }\n",
       "\n",
       "    .dataframe thead th {\n",
       "        text-align: right;\n",
       "    }\n",
       "</style>\n",
       "<table border=\"1\" class=\"dataframe\">\n",
       "  <thead>\n",
       "    <tr style=\"text-align: right;\">\n",
       "      <th></th>\n",
       "      <th>RAD</th>\n",
       "      <th>bin_num</th>\n",
       "      <th>bad_num</th>\n",
       "      <th>good_num</th>\n",
       "      <th>bad_rate</th>\n",
       "      <th>bin_pct</th>\n",
       "      <th>woe</th>\n",
       "      <th>iv</th>\n",
       "    </tr>\n",
       "  </thead>\n",
       "  <tbody>\n",
       "    <tr>\n",
       "      <th>0</th>\n",
       "      <td>[24.0]</td>\n",
       "      <td>132</td>\n",
       "      <td>18.0</td>\n",
       "      <td>114.0</td>\n",
       "      <td>0.136364</td>\n",
       "      <td>0.260870</td>\n",
       "      <td>-1.451908</td>\n",
       "      <td>0.432253</td>\n",
       "    </tr>\n",
       "    <tr>\n",
       "      <th>1</th>\n",
       "      <td>[6.0, 4.0, 1.0]</td>\n",
       "      <td>156</td>\n",
       "      <td>58.0</td>\n",
       "      <td>98.0</td>\n",
       "      <td>0.371795</td>\n",
       "      <td>0.308300</td>\n",
       "      <td>-0.168997</td>\n",
       "      <td>0.008865</td>\n",
       "    </tr>\n",
       "    <tr>\n",
       "      <th>2</th>\n",
       "      <td>[5.0, 2.0]</td>\n",
       "      <td>139</td>\n",
       "      <td>76.0</td>\n",
       "      <td>63.0</td>\n",
       "      <td>0.546763</td>\n",
       "      <td>0.274704</td>\n",
       "      <td>0.533508</td>\n",
       "      <td>0.080835</td>\n",
       "    </tr>\n",
       "    <tr>\n",
       "      <th>3</th>\n",
       "      <td>[3.0, 7.0, 8.0]</td>\n",
       "      <td>79</td>\n",
       "      <td>57.0</td>\n",
       "      <td>22.0</td>\n",
       "      <td>0.721519</td>\n",
       "      <td>0.156126</td>\n",
       "      <td>1.273534</td>\n",
       "      <td>0.252992</td>\n",
       "    </tr>\n",
       "  </tbody>\n",
       "</table>\n",
       "</div>"
      ],
      "text/plain": [
       "               RAD  bin_num  bad_num  good_num  bad_rate   bin_pct       woe  \\\n",
       "0           [24.0]      132     18.0     114.0  0.136364  0.260870 -1.451908   \n",
       "1  [6.0, 4.0, 1.0]      156     58.0      98.0  0.371795  0.308300 -0.168997   \n",
       "2       [5.0, 2.0]      139     76.0      63.0  0.546763  0.274704  0.533508   \n",
       "3  [3.0, 7.0, 8.0]       79     57.0      22.0  0.721519  0.156126  1.273534   \n",
       "\n",
       "         iv  \n",
       "0  0.432253  \n",
       "1  0.008865  \n",
       "2  0.080835  \n",
       "3  0.252992  "
      ]
     },
     "execution_count": 19,
     "metadata": {},
     "output_type": "execute_result"
    }
   ],
   "source": [
    "encoder.bin_result_   # 分箱结果的展示"
   ]
  },
  {
   "cell_type": "code",
   "execution_count": 20,
   "metadata": {
    "ExecuteTime": {
     "end_time": "2020-06-28T09:42:18.419253Z",
     "start_time": "2020-06-28T09:42:18.408209Z"
    }
   },
   "outputs": [
    {
     "data": {
      "text/plain": [
       "0.7749440157846403"
      ]
     },
     "execution_count": 20,
     "metadata": {},
     "output_type": "execute_result"
    }
   ],
   "source": [
    "encoder.iv_   # 分箱的评估指标——IV 值"
   ]
  },
  {
   "cell_type": "code",
   "execution_count": 30,
   "metadata": {
    "ExecuteTime": {
     "end_time": "2020-06-28T09:50:43.307430Z",
     "start_time": "2020-06-28T09:50:43.291761Z"
    }
   },
   "outputs": [
    {
     "data": {
      "text/plain": [
       "{24.0: -1.4519077092821897,\n",
       " 6.0: -0.398628961915601,\n",
       " 4.0: -0.11403808203349304,\n",
       " 1.0: -0.11403808203349304,\n",
       " 5.0: 0.533507778408632,\n",
       " 2.0: 0.533507778408632,\n",
       " 3.0: 0.9676246483208434,\n",
       " 7.0: 1.5425079083870545,\n",
       " 8.0: 1.5425079083870545}"
      ]
     },
     "execution_count": 30,
     "metadata": {},
     "output_type": "execute_result"
    }
   ],
   "source": [
    "encoder.bin_woe_mapping_  # 特征值与其 woe 值的映射"
   ]
  },
  {
   "cell_type": "markdown",
   "metadata": {},
   "source": [
    "### 2.2.2 基于最大分箱数的卡方分箱法"
   ]
  },
  {
   "cell_type": "code",
   "execution_count": 23,
   "metadata": {
    "ExecuteTime": {
     "end_time": "2020-06-28T09:47:36.509690Z",
     "start_time": "2020-06-28T09:47:36.442232Z"
    }
   },
   "outputs": [],
   "source": [
    "# 按照最大箱数停止\n",
    "encoder = CategoryWOEEncoder(\n",
    "    col_name=category_feature,\n",
    "    target_col_name='y',\n",
    "    max_bins=10,             # default, 最大分箱数\n",
    "    bin_pct_threshold=0.05,  # default, 每个 bin 的最少样本数\n",
    "    woe_method='chi2',       # default, 基于卡方的分箱\n",
    "    min_chi2_flag=False,     # 按照最大分箱数停止\n",
    ")\n",
    "data_transformed = encoder.fit_transform(data)"
   ]
  },
  {
   "cell_type": "code",
   "execution_count": 24,
   "metadata": {
    "ExecuteTime": {
     "end_time": "2020-06-28T09:47:53.784575Z",
     "start_time": "2020-06-28T09:47:53.759350Z"
    }
   },
   "outputs": [
    {
     "data": {
      "text/html": [
       "<div>\n",
       "<style scoped>\n",
       "    .dataframe tbody tr th:only-of-type {\n",
       "        vertical-align: middle;\n",
       "    }\n",
       "\n",
       "    .dataframe tbody tr th {\n",
       "        vertical-align: top;\n",
       "    }\n",
       "\n",
       "    .dataframe thead th {\n",
       "        text-align: right;\n",
       "    }\n",
       "</style>\n",
       "<table border=\"1\" class=\"dataframe\">\n",
       "  <thead>\n",
       "    <tr style=\"text-align: right;\">\n",
       "      <th></th>\n",
       "      <th>RAD</th>\n",
       "      <th>bin_num</th>\n",
       "      <th>bad_num</th>\n",
       "      <th>good_num</th>\n",
       "      <th>bad_rate</th>\n",
       "      <th>bin_pct</th>\n",
       "      <th>woe</th>\n",
       "      <th>iv</th>\n",
       "    </tr>\n",
       "  </thead>\n",
       "  <tbody>\n",
       "    <tr>\n",
       "      <th>0</th>\n",
       "      <td>[24.0]</td>\n",
       "      <td>132</td>\n",
       "      <td>18.0</td>\n",
       "      <td>114.0</td>\n",
       "      <td>0.136364</td>\n",
       "      <td>0.260870</td>\n",
       "      <td>-1.451908</td>\n",
       "      <td>0.432253</td>\n",
       "    </tr>\n",
       "    <tr>\n",
       "      <th>1</th>\n",
       "      <td>[6.0]</td>\n",
       "      <td>26</td>\n",
       "      <td>8.0</td>\n",
       "      <td>18.0</td>\n",
       "      <td>0.307692</td>\n",
       "      <td>0.051383</td>\n",
       "      <td>-0.398629</td>\n",
       "      <td>0.008901</td>\n",
       "    </tr>\n",
       "    <tr>\n",
       "      <th>2</th>\n",
       "      <td>[4.0, 1.0]</td>\n",
       "      <td>130</td>\n",
       "      <td>50.0</td>\n",
       "      <td>80.0</td>\n",
       "      <td>0.384615</td>\n",
       "      <td>0.256917</td>\n",
       "      <td>-0.114038</td>\n",
       "      <td>0.003435</td>\n",
       "    </tr>\n",
       "    <tr>\n",
       "      <th>3</th>\n",
       "      <td>[5.0, 2.0]</td>\n",
       "      <td>139</td>\n",
       "      <td>76.0</td>\n",
       "      <td>63.0</td>\n",
       "      <td>0.546763</td>\n",
       "      <td>0.274704</td>\n",
       "      <td>0.533508</td>\n",
       "      <td>0.080835</td>\n",
       "    </tr>\n",
       "    <tr>\n",
       "      <th>4</th>\n",
       "      <td>[3.0]</td>\n",
       "      <td>38</td>\n",
       "      <td>25.0</td>\n",
       "      <td>13.0</td>\n",
       "      <td>0.657895</td>\n",
       "      <td>0.075099</td>\n",
       "      <td>0.967625</td>\n",
       "      <td>0.073391</td>\n",
       "    </tr>\n",
       "    <tr>\n",
       "      <th>5</th>\n",
       "      <td>[7.0, 8.0]</td>\n",
       "      <td>41</td>\n",
       "      <td>32.0</td>\n",
       "      <td>9.0</td>\n",
       "      <td>0.780488</td>\n",
       "      <td>0.081028</td>\n",
       "      <td>1.542508</td>\n",
       "      <td>0.189431</td>\n",
       "    </tr>\n",
       "  </tbody>\n",
       "</table>\n",
       "</div>"
      ],
      "text/plain": [
       "          RAD  bin_num  bad_num  good_num  bad_rate   bin_pct       woe  \\\n",
       "0      [24.0]      132     18.0     114.0  0.136364  0.260870 -1.451908   \n",
       "1       [6.0]       26      8.0      18.0  0.307692  0.051383 -0.398629   \n",
       "2  [4.0, 1.0]      130     50.0      80.0  0.384615  0.256917 -0.114038   \n",
       "3  [5.0, 2.0]      139     76.0      63.0  0.546763  0.274704  0.533508   \n",
       "4       [3.0]       38     25.0      13.0  0.657895  0.075099  0.967625   \n",
       "5  [7.0, 8.0]       41     32.0       9.0  0.780488  0.081028  1.542508   \n",
       "\n",
       "         iv  \n",
       "0  0.432253  \n",
       "1  0.008901  \n",
       "2  0.003435  \n",
       "3  0.080835  \n",
       "4  0.073391  \n",
       "5  0.189431  "
      ]
     },
     "execution_count": 24,
     "metadata": {},
     "output_type": "execute_result"
    }
   ],
   "source": [
    "encoder.bin_result_   # 分箱结果的展示"
   ]
  },
  {
   "cell_type": "code",
   "execution_count": 28,
   "metadata": {
    "ExecuteTime": {
     "end_time": "2020-06-28T09:49:30.756407Z",
     "start_time": "2020-06-28T09:49:30.746629Z"
    }
   },
   "outputs": [
    {
     "data": {
      "text/plain": [
       "0.7882454643406109"
      ]
     },
     "execution_count": 28,
     "metadata": {},
     "output_type": "execute_result"
    }
   ],
   "source": [
    "encoder.iv_  # 分箱的评估指标——IV 值"
   ]
  },
  {
   "cell_type": "code",
   "execution_count": 29,
   "metadata": {
    "ExecuteTime": {
     "end_time": "2020-06-28T09:49:48.014087Z",
     "start_time": "2020-06-28T09:49:47.998151Z"
    }
   },
   "outputs": [
    {
     "data": {
      "text/plain": [
       "{24.0: -1.4519077092821897,\n",
       " 6.0: -0.398628961915601,\n",
       " 4.0: -0.11403808203349304,\n",
       " 1.0: -0.11403808203349304,\n",
       " 5.0: 0.533507778408632,\n",
       " 2.0: 0.533507778408632,\n",
       " 3.0: 0.9676246483208434,\n",
       " 7.0: 1.5425079083870545,\n",
       " 8.0: 1.5425079083870545}"
      ]
     },
     "execution_count": 29,
     "metadata": {},
     "output_type": "execute_result"
    }
   ],
   "source": [
    "encoder.bin_woe_mapping_  # 特征值与其 woe 值的映射"
   ]
  },
  {
   "cell_type": "markdown",
   "metadata": {},
   "source": [
    "### 2.2.3 基于最大分箱数的坏样本率差异最大化分箱方法"
   ]
  },
  {
   "cell_type": "code",
   "execution_count": 31,
   "metadata": {
    "ExecuteTime": {
     "end_time": "2020-06-28T09:53:46.528318Z",
     "start_time": "2020-06-28T09:53:46.461686Z"
    }
   },
   "outputs": [],
   "source": [
    "# 按照最大箱数停止\n",
    "encoder = CategoryWOEEncoder(\n",
    "    col_name=category_feature,\n",
    "    target_col_name='y',\n",
    "    max_bins=10,             # default, 最大分箱数\n",
    "    bin_pct_threshold=0.05,  # default, 每个 bin 的最少样本数\n",
    "    woe_method='bad_rate',   # 基于坏样本率差异最大化的分箱\n",
    ")\n",
    "data_transformed = encoder.fit_transform(data)"
   ]
  },
  {
   "cell_type": "code",
   "execution_count": 32,
   "metadata": {
    "ExecuteTime": {
     "end_time": "2020-06-28T09:54:08.533135Z",
     "start_time": "2020-06-28T09:54:08.517371Z"
    }
   },
   "outputs": [
    {
     "data": {
      "text/html": [
       "<div>\n",
       "<style scoped>\n",
       "    .dataframe tbody tr th:only-of-type {\n",
       "        vertical-align: middle;\n",
       "    }\n",
       "\n",
       "    .dataframe tbody tr th {\n",
       "        vertical-align: top;\n",
       "    }\n",
       "\n",
       "    .dataframe thead th {\n",
       "        text-align: right;\n",
       "    }\n",
       "</style>\n",
       "<table border=\"1\" class=\"dataframe\">\n",
       "  <thead>\n",
       "    <tr style=\"text-align: right;\">\n",
       "      <th></th>\n",
       "      <th>RAD</th>\n",
       "      <th>bin_num</th>\n",
       "      <th>bad_num</th>\n",
       "      <th>good_num</th>\n",
       "      <th>bad_rate</th>\n",
       "      <th>bin_pct</th>\n",
       "      <th>woe</th>\n",
       "      <th>iv</th>\n",
       "    </tr>\n",
       "  </thead>\n",
       "  <tbody>\n",
       "    <tr>\n",
       "      <th>0</th>\n",
       "      <td>[24.0]</td>\n",
       "      <td>132</td>\n",
       "      <td>18.0</td>\n",
       "      <td>114.0</td>\n",
       "      <td>0.136364</td>\n",
       "      <td>0.260870</td>\n",
       "      <td>-1.451908</td>\n",
       "      <td>0.432253</td>\n",
       "    </tr>\n",
       "    <tr>\n",
       "      <th>1</th>\n",
       "      <td>[6.0]</td>\n",
       "      <td>26</td>\n",
       "      <td>8.0</td>\n",
       "      <td>18.0</td>\n",
       "      <td>0.307692</td>\n",
       "      <td>0.051383</td>\n",
       "      <td>-0.398629</td>\n",
       "      <td>0.008901</td>\n",
       "    </tr>\n",
       "    <tr>\n",
       "      <th>2</th>\n",
       "      <td>[4.0, 1.0]</td>\n",
       "      <td>130</td>\n",
       "      <td>50.0</td>\n",
       "      <td>80.0</td>\n",
       "      <td>0.384615</td>\n",
       "      <td>0.256917</td>\n",
       "      <td>-0.114038</td>\n",
       "      <td>0.003435</td>\n",
       "    </tr>\n",
       "    <tr>\n",
       "      <th>3</th>\n",
       "      <td>[5.0, 2.0]</td>\n",
       "      <td>139</td>\n",
       "      <td>76.0</td>\n",
       "      <td>63.0</td>\n",
       "      <td>0.546763</td>\n",
       "      <td>0.274704</td>\n",
       "      <td>0.533508</td>\n",
       "      <td>0.080835</td>\n",
       "    </tr>\n",
       "    <tr>\n",
       "      <th>4</th>\n",
       "      <td>[3.0]</td>\n",
       "      <td>38</td>\n",
       "      <td>25.0</td>\n",
       "      <td>13.0</td>\n",
       "      <td>0.657895</td>\n",
       "      <td>0.075099</td>\n",
       "      <td>0.967625</td>\n",
       "      <td>0.073391</td>\n",
       "    </tr>\n",
       "    <tr>\n",
       "      <th>5</th>\n",
       "      <td>[7.0, 8.0]</td>\n",
       "      <td>41</td>\n",
       "      <td>32.0</td>\n",
       "      <td>9.0</td>\n",
       "      <td>0.780488</td>\n",
       "      <td>0.081028</td>\n",
       "      <td>1.542508</td>\n",
       "      <td>0.189431</td>\n",
       "    </tr>\n",
       "  </tbody>\n",
       "</table>\n",
       "</div>"
      ],
      "text/plain": [
       "          RAD  bin_num  bad_num  good_num  bad_rate   bin_pct       woe  \\\n",
       "0      [24.0]      132     18.0     114.0  0.136364  0.260870 -1.451908   \n",
       "1       [6.0]       26      8.0      18.0  0.307692  0.051383 -0.398629   \n",
       "2  [4.0, 1.0]      130     50.0      80.0  0.384615  0.256917 -0.114038   \n",
       "3  [5.0, 2.0]      139     76.0      63.0  0.546763  0.274704  0.533508   \n",
       "4       [3.0]       38     25.0      13.0  0.657895  0.075099  0.967625   \n",
       "5  [7.0, 8.0]       41     32.0       9.0  0.780488  0.081028  1.542508   \n",
       "\n",
       "         iv  \n",
       "0  0.432253  \n",
       "1  0.008901  \n",
       "2  0.003435  \n",
       "3  0.080835  \n",
       "4  0.073391  \n",
       "5  0.189431  "
      ]
     },
     "execution_count": 32,
     "metadata": {},
     "output_type": "execute_result"
    }
   ],
   "source": [
    "encoder.bin_result_"
   ]
  },
  {
   "cell_type": "code",
   "execution_count": 33,
   "metadata": {
    "ExecuteTime": {
     "end_time": "2020-06-28T09:54:17.050065Z",
     "start_time": "2020-06-28T09:54:17.040333Z"
    }
   },
   "outputs": [
    {
     "data": {
      "text/plain": [
       "0.7882454643406109"
      ]
     },
     "execution_count": 33,
     "metadata": {},
     "output_type": "execute_result"
    }
   ],
   "source": [
    "encoder.iv_"
   ]
  },
  {
   "cell_type": "markdown",
   "metadata": {},
   "source": [
    "### 2.2.4 处理特殊值和缺失值"
   ]
  },
  {
   "cell_type": "markdown",
   "metadata": {
    "ExecuteTime": {
     "end_time": "2020-06-28T10:00:41.727166Z",
     "start_time": "2020-06-28T10:00:41.714209Z"
    }
   },
   "source": [
    "- 如果特征中含有需要特殊对待的一个/多个值，可以单独作为一个/多个 bin 处理。\n",
    "\n",
    "\n",
    "- 如果特征中含有缺失值，可以将缺失值单独作为一个 bin 来处理，你只需要指定一个不会引起混淆的值来 fill 缺失值。\n",
    "\n",
    "以下使用【基于最大分箱数的卡方分箱法】来介绍这里的功能。"
   ]
  },
  {
   "cell_type": "code",
   "execution_count": null,
   "metadata": {},
   "outputs": [],
   "source": [
    "# 特征中有需要特殊对待的值\n",
    "encoder = CategoryWOEEncoder(\n",
    "    col_name=category_feature,\n",
    "    target_col_name='y',\n",
    "    max_bins=10,             # default, 最大分箱数\n",
    "    bin_pct_threshold=0.05,  # default, 每个 bin 的最少样本\n",
    "    woe_method='chi2',\n",
    "    min_chi2_flag=False,\n",
    ")\n",
    "data_transformed = encoder.fit_transform(data)"
   ]
  },
  {
   "cell_type": "code",
   "execution_count": null,
   "metadata": {},
   "outputs": [],
   "source": []
  },
  {
   "cell_type": "code",
   "execution_count": null,
   "metadata": {},
   "outputs": [],
   "source": []
  },
  {
   "cell_type": "code",
   "execution_count": null,
   "metadata": {},
   "outputs": [],
   "source": []
  },
  {
   "cell_type": "code",
   "execution_count": null,
   "metadata": {},
   "outputs": [],
   "source": []
  },
  {
   "cell_type": "code",
   "execution_count": null,
   "metadata": {},
   "outputs": [],
   "source": []
  },
  {
   "cell_type": "code",
   "execution_count": null,
   "metadata": {},
   "outputs": [],
   "source": []
  },
  {
   "cell_type": "code",
   "execution_count": null,
   "metadata": {},
   "outputs": [],
   "source": []
  }
 ],
 "metadata": {
  "kernelspec": {
   "display_name": "Python 3",
   "language": "python",
   "name": "python3"
  },
  "language_info": {
   "codemirror_mode": {
    "name": "ipython",
    "version": 3
   },
   "file_extension": ".py",
   "mimetype": "text/x-python",
   "name": "python",
   "nbconvert_exporter": "python",
   "pygments_lexer": "ipython3",
   "version": "3.6.10"
  },
  "toc": {
   "base_numbering": 1,
   "nav_menu": {},
   "number_sections": false,
   "sideBar": true,
   "skip_h1_title": false,
   "title_cell": "Table of Contents",
   "title_sidebar": "Contents",
   "toc_cell": false,
   "toc_position": {},
   "toc_section_display": true,
   "toc_window_display": false
  },
  "varInspector": {
   "cols": {
    "lenName": 16,
    "lenType": 16,
    "lenVar": 40
   },
   "kernels_config": {
    "python": {
     "delete_cmd_postfix": "",
     "delete_cmd_prefix": "del ",
     "library": "var_list.py",
     "varRefreshCmd": "print(var_dic_list())"
    },
    "r": {
     "delete_cmd_postfix": ") ",
     "delete_cmd_prefix": "rm(",
     "library": "var_list.r",
     "varRefreshCmd": "cat(var_dic_list()) "
    }
   },
   "types_to_exclude": [
    "module",
    "function",
    "builtin_function_or_method",
    "instance",
    "_Feature"
   ],
   "window_display": false
  }
 },
 "nbformat": 4,
 "nbformat_minor": 4
}
